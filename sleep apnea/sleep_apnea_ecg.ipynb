{
 "cells": [
  {
   "cell_type": "code",
   "execution_count": 2,
   "metadata": {},
   "outputs": [],
   "source": [
    "import numpy as np\n",
    "import pandas as pd\n",
    "from mat4py import loadmat\n",
    "from sklearn.model_selection import train_test_split\n",
    "from sklearn.metrics import confusion_matrix, accuracy_score\n",
    "from sklearn.metrics import mean_squared_error\n",
    "from sklearn import metrics\n",
    "from sklearn.utils import resample\n",
    "import os\n",
    "os.environ[\"CUDA_VISIBLE_DEVICES\"]=\"0\"  # or if you want more than 1 GPU set it as \"0\", \"1\"\n",
    "import tensorflow as tf\n",
    "import tensorflow\n",
    "from tensorflow import keras\n",
    "from tensorflow.keras.callbacks import ModelCheckpoint\n",
    "import sklearn\n",
    "from tensorflow.keras.datasets import mnist\n",
    "from tensorflow.keras.models import Sequential\n",
    "from tensorflow.keras.models import Model\n",
    "from tensorflow.keras.layers import Dense, Dropout, Activation, Flatten, BatchNormalization,Concatenate,concatenate, Input\n",
    "from tensorflow.keras.layers import Conv2D, Conv1D, MaxPooling1D\n",
    "#from tensorflow.keras.utils import np_utils\n",
    "#from tensorflow.keras.utils.vis_utils import model_to_dot\n",
    "from tensorflow.keras.regularizers import l2\n",
    "import matplotlib.pyplot as plt\n",
    "import pickle\n",
    "from tensorflow.keras.layers import Reshape\n",
    "from tensorflow.keras.layers import LSTM\n",
    "import torch "
   ]
  },
  {
   "cell_type": "code",
   "execution_count": 57,
   "metadata": {},
   "outputs": [],
   "source": [
    "list_string=['ucddb002','ucddb003','ucddb019','ucddb020','ucddb021','ucddb022','ucddb023','ucddb024',\n",
    "             ]#\\'ucddb008'\\,'ucddb011','ucddb013','ucddb014','ucddb010','ucddb012','ucddb014','ucddb015','ucddb017',\\,\\'ucddb025','ucddb026','ucddb027','ucddb028','ucddb005','ucddb006','ucddb007','ucddb009'\n",
    "\n",
    "\n",
    "valid_features=np.zeros((1,1408))\n",
    "test_features=np.zeros((1,1408))\n",
    "valid_labels=np.zeros((1,1))\n",
    "test_labels=np.zeros((1,1))\n",
    "for l in list_string:\n",
    "        \n",
    "        #displaying data in a good way\n",
    "        ecg_valid = loadmat('D:\\\\mahika\\\\notes\\\\sem6\\\\minor\\\\dataset\\\\selected\\\\'+l+'_ecg_valid.mat') \n",
    "        ecg_valid = np.array(ecg_valid['ecg_valid'])\n",
    "        ecg_valid_labels=loadmat('D:\\\\mahika\\\\notes\\\\sem6\\\\minor\\\\dataset\\\\selected\\\\'+l+'_valid_labels.mat')\n",
    "        ecg_valid_labels = np.array(ecg_valid_labels['class_valid'])\n",
    "        valid_features=np.append(valid_features,ecg_valid,axis=0)\n",
    "        valid_labels=np.append(valid_labels,ecg_valid_labels)\n",
    "       \n",
    "        \n",
    "        ecg_test = loadmat('D:\\\\mahika\\\\notes\\\\sem6\\\\minor\\\\dataset\\\\selected\\\\'+l+'_ecg_test.mat')\n",
    "        ecg_test = np.array(ecg_test['ecg_test'])\n",
    "        ecg_test_labels=loadmat('D:\\\\mahika\\\\notes\\\\sem6\\\\minor\\\\dataset\\\\selected\\\\'+l+'_test_labels.mat')\n",
    "        ecg_test_labels = np.array(ecg_test_labels['class_test'])\n",
    "        test_features=np.append(test_features,ecg_test,axis=0)\n",
    "        test_labels=np.append(test_labels,ecg_test_labels)\n",
    "        \n",
    "ecg_valid=valid_features[1:,:]\n",
    "#ecg_valid=np.expand_dims(ecg_valid, axis=2)\n",
    "valid_labels=valid_labels[1:]\n",
    "valid_labels = valid_labels.flatten()\n",
    "\n",
    "ecg_test=test_features[1:,:]\n",
    "#ecg_test=np.expand_dims(ecg_test, axis=2)\n",
    "test_labels=test_labels[1:]\n",
    "test_labels = test_labels.flatten()"
   ]
  },
  {
   "cell_type": "code",
   "execution_count": 58,
   "metadata": {},
   "outputs": [],
   "source": [
    "train_features=np.zeros((1,1408))\n",
    "\n",
    "train_labels=np.zeros((1,1))\n",
    "\n",
    "for l in list_string:\n",
    "        ecg_train = loadmat('D:\\\\mahika\\\\notes\\\\sem6\\\\minor\\\\dataset\\\\selected\\\\'+l+'_ecg_train.mat')\n",
    "        ecg_train = np.array(ecg_train['ecg_train'])\n",
    "        ecg_train_labels=loadmat('D:\\\\mahika\\\\notes\\\\sem6\\\\minor\\\\dataset\\\\selected\\\\'+l+'_train_labels.mat')\n",
    "        ecg_train_labels = np.array(ecg_train_labels['class_train'])\n",
    "        train_features=np.append(train_features,ecg_train,axis=0)\n",
    "        train_labels=np.append(train_labels,ecg_train_labels)\n",
    "        \n",
    "ecg_train=train_features[1:,:]\n",
    "#ecg_train=np.expand_dims(ecg_train, axis=2)\n",
    "train_labels=train_labels[1:]\n",
    "train_labels = train_labels.flatten()"
   ]
  },
  {
   "cell_type": "code",
   "execution_count": 5,
   "metadata": {},
   "outputs": [],
   "source": [
    "ecg_train_mean=np.mean(ecg_train)\n",
    "ecg_train_std=np.std(ecg_train)"
   ]
  },
  {
   "cell_type": "code",
   "execution_count": 6,
   "metadata": {},
   "outputs": [],
   "source": [
    "for i in range(ecg_train.shape[0]):\n",
    "    ecg_train[i,:]=(ecg_train[i,:]-ecg_train_mean)/ecg_train_std\n",
    "    \n",
    "for i in range(ecg_valid.shape[0]):\n",
    "    ecg_valid[i,:]=(ecg_valid[i,:]-ecg_train_mean)/ecg_train_std\n",
    "    \n",
    "for i in range(ecg_test.shape[0]):\n",
    "    ecg_test[i,:]=(ecg_test[i,:]-ecg_train_mean)/ecg_train_std\n",
    "    \n",
    "#ecg_train=(ecg_train-ecg_train_mean)/ecg_train_std\n",
    "#ecg_valid=(ecg_valid-ecg_train_mean)/ecg_train_std\n",
    "#ecg_test=(ecg_test-ecg_train_mean)/ecg_train_std\n",
    "\n",
    "ecg_train=np.expand_dims(ecg_train, axis=2)\n",
    "ecg_valid=np.expand_dims(ecg_valid, axis=2)\n",
    "ecg_test=np.expand_dims(ecg_test, axis=2)"
   ]
  },
  {
   "cell_type": "code",
   "execution_count": 7,
   "metadata": {},
   "outputs": [],
   "source": [
    "y_train=train_labels\n",
    "y_valid=valid_labels\n",
    "y_test=test_labels"
   ]
  },
  {
   "cell_type": "code",
   "execution_count": 8,
   "metadata": {},
   "outputs": [],
   "source": [
    "tensorflow.keras.backend.clear_session()"
   ]
  },
  {
   "cell_type": "code",
   "execution_count": 9,
   "metadata": {},
   "outputs": [],
   "source": [
    "num_classes=2"
   ]
  },
  {
   "cell_type": "code",
   "execution_count": 10,
   "metadata": {},
   "outputs": [],
   "source": [
    "\n",
    "\n",
    "y_train_encoder = sklearn.preprocessing.LabelEncoder()\n",
    "y_train_num = y_train_encoder.fit_transform(y_train)\n",
    "y_train_wide = tensorflow.keras.utils.to_categorical(y_train_num, num_classes)\n",
    "\n",
    "y_valid_num = y_train_encoder.fit_transform(y_valid)\n",
    "y_valid_wide = tensorflow.keras.utils.to_categorical(y_valid_num, num_classes)\n",
    "\n",
    "y_test_num = y_train_encoder.fit_transform(y_test)\n",
    "y_test_wide = tensorflow.keras.utils.to_categorical(y_test_num, num_classes)\n",
    "\n"
   ]
  },
  {
   "cell_type": "code",
   "execution_count": 17,
   "metadata": {},
   "outputs": [
    {
     "name": "stdout",
     "output_type": "stream",
     "text": [
      "Model: \"sequential\"\n",
      "_________________________________________________________________\n",
      " Layer (type)                Output Shape              Param #   \n",
      "=================================================================\n",
      " batch_normalization_2 (Batc  (None, 1408, 1)          4         \n",
      " hNormalization)                                                 \n",
      "                                                                 \n",
      " conv1d_2 (Conv1D)           (None, 655, 3)            303       \n",
      "                                                                 \n",
      " activation_2 (Activation)   (None, 655, 3)            0         \n",
      "                                                                 \n",
      " max_pooling1d_2 (MaxPooling  (None, 327, 3)           0         \n",
      " 1D)                                                             \n",
      "                                                                 \n",
      " conv1d_3 (Conv1D)           (None, 318, 50)           1550      \n",
      "                                                                 \n",
      " max_pooling1d_3 (MaxPooling  (None, 159, 50)          0         \n",
      " 1D)                                                             \n",
      "                                                                 \n",
      " activation_3 (Activation)   (None, 159, 50)           0         \n",
      "                                                                 \n",
      " conv1d_4 (Conv1D)           (None, 130, 30)           45030     \n",
      "                                                                 \n",
      " max_pooling1d_4 (MaxPooling  (None, 65, 30)           0         \n",
      " 1D)                                                             \n",
      "                                                                 \n",
      " activation_4 (Activation)   (None, 65, 30)            0         \n",
      "                                                                 \n",
      " batch_normalization_3 (Batc  (None, 65, 30)           120       \n",
      " hNormalization)                                                 \n",
      "                                                                 \n",
      " flatten_1 (Flatten)         (None, 1950)              0         \n",
      "                                                                 \n",
      " dropout_1 (Dropout)         (None, 1950)              0         \n",
      "                                                                 \n",
      " dense_1 (Dense)             (None, 2)                 3902      \n",
      "                                                                 \n",
      "=================================================================\n",
      "Total params: 50,909\n",
      "Trainable params: 50,847\n",
      "Non-trainable params: 62\n",
      "_________________________________________________________________\n"
     ]
    }
   ],
   "source": [
    "#1D-CNN Sequential\n",
    "model_ecg = Sequential()\n",
    "model_ecg.add(BatchNormalization(input_shape=(1408,1)))\n",
    "model_ecg.add(Conv1D(3, kernel_size=(100),strides=2))\n",
    "model_ecg.add(Activation(\"relu\"))\n",
    "model_ecg.add(MaxPooling1D(pool_size=(2),strides=2))\n",
    "model_ecg.add(Conv1D(50, (10)))\n",
    "model_ecg.add(MaxPooling1D(pool_size=(2),strides=2))\n",
    "model_ecg.add(Activation(\"relu\"))\n",
    "model_ecg.add(Conv1D(30, (30)))\n",
    "model_ecg.add(MaxPooling1D(pool_size=(2)))\n",
    "model_ecg.add(Activation(\"relu\"))\n",
    "model_ecg.add(BatchNormalization())\n",
    "model_ecg.add(Flatten())\n",
    "model_ecg.add(Dropout(0.25))\n",
    "model_ecg.add(Dense(2, kernel_regularizer=l2(0.01), bias_regularizer=l2(0.01), activation='softmax'))\n",
    "\n",
    "model_ecg.summary()\n",
    "\n",
    "\n",
    "#1D-CNN Functional API\n",
    "# input_layer = Input(shape=(1408, 1))\n",
    "# x = BatchNormalization()(input_layer)\n",
    "# x = Conv1D(3, kernel_size=100, strides=2)(x)\n",
    "# x = Activation(\"relu\")(x)\n",
    "# x = MaxPooling1D(pool_size=2, strides=2)(x)\n",
    "# x = Conv1D(50, 10)(x)\n",
    "# x = MaxPooling1D(pool_size=2, strides=2)(x)\n",
    "# x = Activation(\"relu\")(x)\n",
    "# x = BatchNormalization()(x)\n",
    "# x = Flatten()(x)\n",
    "# x = Dropout(0.25)(x)\n",
    "# output_layer = Dense(2, activation='softmax', kernel_regularizer=l2(0.01), bias_regularizer=l2(0.01))(x)\n",
    "\n",
    "# model_ecg = Model(inputs=input_layer, outputs=output_layer)\n",
    "# model_ecg.summary()\n",
    "\n",
    "#LSTM\n",
    "# input_layer = Input(shape=(1408, 1))\n",
    "# x = BatchNormalization()(input_layer)\n",
    "# x = LSTM(64, return_sequences=True)(x)\n",
    "# x = Activation(\"relu\")(x)\n",
    "# x = MaxPooling1D(pool_size=2, strides=2)(x)\n",
    "# x = LSTM(64)(x)\n",
    "# x = Activation(\"relu\")(x)\n",
    "# x = BatchNormalization()(x)\n",
    "# x = Dropout(0.25)(x)\n",
    "# output_layer = Dense(2, activation='softmax', kernel_regularizer=l2(0.01), bias_regularizer=l2(0.01))(x)\n",
    "# model_ecg = Model(inputs=input_layer, outputs=output_layer)\n",
    "# model_ecg.summary()\n",
    "\n",
    "\n",
    "#LSTM\n",
    "# input_layer = Input(shape=(1408, 1))\n",
    "# x = BatchNormalization()(input_layer)\n",
    "# x = tf.keras.layers.LSTM(64, return_sequences=True)(x)\n",
    "# #x = Activation(\"relu\")(x)\n",
    "# x = Dropout(0.25)(x)\n",
    "# #x = MaxPooling1D(pool_size=2, strides=2)(x)\n",
    "# x = LSTM(32)(x)\n",
    "# x = Activation(\"relu\")(x)\n",
    "# # x = Dense(30)(x)\n",
    "# # x = Activation(\"relu\")(x)\n",
    "# # x = BatchNormalization()(x)\n",
    "# # x = Flatten()(x)\n",
    "# x = Dropout(0.25)(x)\n",
    "# output_layer = Dense(2, activation='softmax', kernel_regularizer=l2(0.01), bias_regularizer=l2(0.01))(x)\n",
    "\n",
    "# model_ecg = Model(inputs=input_layer, outputs=output_layer)\n",
    "# model_ecg.summary()\n",
    "\n",
    "\n"
   ]
  },
  {
   "cell_type": "code",
   "execution_count": 18,
   "metadata": {},
   "outputs": [],
   "source": [
    "batch_size = 32\n",
    "epochs = 1\n",
    "\n",
    "opt = tensorflow.keras.optimizers.Adam(learning_rate=0.001)\n",
    "model_ecg.compile(loss='binary_crossentropy',\n",
    "              optimizer=opt,\n",
    "              metrics=['accuracy'])"
   ]
  },
  {
   "cell_type": "code",
   "execution_count": 20,
   "metadata": {},
   "outputs": [
    {
     "name": "stdout",
     "output_type": "stream",
     "text": [
      "Num GPUs Available:  0\n"
     ]
    }
   ],
   "source": [
    "print(\"Num GPUs Available: \", len(tensorflow.config.experimental.list_physical_devices('GPU')))"
   ]
  },
  {
   "cell_type": "code",
   "execution_count": 21,
   "metadata": {},
   "outputs": [
    {
     "data": {
      "text/plain": [
       "(76698, 1408, 1)"
      ]
     },
     "execution_count": 21,
     "metadata": {},
     "output_type": "execute_result"
    }
   ],
   "source": [
    "ecg_train.shape"
   ]
  },
  {
   "cell_type": "code",
   "execution_count": 22,
   "metadata": {},
   "outputs": [],
   "source": [
    "best_weights_filepath_ecg = './best_weights_ecg_32layer.hdf5'"
   ]
  },
  {
   "cell_type": "code",
   "execution_count": 23,
   "metadata": {
    "scrolled": true
   },
   "outputs": [
    {
     "name": "stdout",
     "output_type": "stream",
     "text": [
      "2397/2397 [==============================] - 219s 91ms/step - loss: 0.1340 - accuracy: 0.9618 - val_loss: 0.2281 - val_accuracy: 0.9123\n"
     ]
    }
   ],
   "source": [
    "best_weights_filepath_ecg = './best_weights_ecg_32layer.hdf5'\n",
    "mcp_ecg = ModelCheckpoint(best_weights_filepath_ecg, monitor=\"val_accuracy\",\n",
    "                      save_best_only=True, save_weights_only=False)\n",
    "            \n",
    "history = model_ecg.fit(ecg_train, y_train_wide,\n",
    "         batch_size=batch_size,\n",
    "          epochs=epochs,\n",
    "          verbose=1,\n",
    "          validation_data=(ecg_valid, y_valid_wide),\n",
    "          callbacks=[mcp_ecg])"
   ]
  },
  {
   "cell_type": "code",
   "execution_count": 24,
   "metadata": {},
   "outputs": [
    {
     "data": {
      "image/png": "[encoded data removed]",
      "text/plain": [
       "<Figure size 600x1200 with 2 Axes>"
      ]
     },
     "metadata": {},
     "output_type": "display_data"
    }
   ],
   "source": [
    "loss = history.history['loss']\n",
    "val_loss = history.history['val_loss']\n",
    "\n",
    "acc=history.history['accuracy']\n",
    "val_acc=history.history['val_accuracy']\n",
    "\n",
    "plt.figure(figsize=(6,12))\n",
    "\n",
    "plt.subplot(2,1,1)\n",
    "\n",
    "plt.xlabel('Epochs(100)')\n",
    "plt.ylabel('Loss')\n",
    "plt.plot(loss, 'green', label='Training Loss')\n",
    "plt.plot(val_loss, 'blue', label='Validation Loss')\n",
    "plt.xticks(range(0,epochs)[0::100])\n",
    "plt.title('Training and Validation Loss vs Epochs')\n",
    "plt.legend()\n",
    "\n",
    "plt.subplot(2,1,2)\n",
    "\n",
    "plt.xlabel('Epochs(100)')\n",
    "plt.ylabel('Accuracy')\n",
    "plt.plot(acc, 'green', label='Training Accuracy')\n",
    "plt.plot(val_acc, 'blue', label='Validation Accuracy')\n",
    "plt.xticks(range(0,epochs)[0::100])\n",
    "plt.title('Training and Validation Accuracy vs Epochs')\n",
    "plt.legend()\n",
    "plt.savefig(\"plots_perf.svg\")\n",
    "plt.show()"
   ]
  },
  {
   "cell_type": "code",
   "execution_count": 25,
   "metadata": {},
   "outputs": [
    {
     "name": "stdout",
     "output_type": "stream",
     "text": [
      "153/153 [==============================] - 5s 14ms/step\n"
     ]
    },
    {
     "data": {
      "image/png": "[encoded data removed]",
      "text/plain": [
       "<Figure size 500x500 with 1 Axes>"
      ]
     },
     "metadata": {},
     "output_type": "display_data"
    }
   ],
   "source": [
    "model_ecg.load_weights('./best_weights_ecg_32layer.hdf5')\n",
    "y_pred = model_ecg.predict(ecg_test)\n",
    "predict_test=np.argmax(y_pred, axis=1)\n",
    "predict_test=predict_test.reshape(predict_test.shape[0],1)\n",
    "cm=confusion_matrix(y_test_num, predict_test)\n",
    "cm\n",
    "\n",
    "# confusion_matrix = metrics.confusion_matrix(y_test_num, predict_test)\n",
    "# cm_display = metrics.ConfusionMatrixDisplay(confusion_matrix = confusion_matrix, display_labels = [True, False])\n",
    "# cm_display.plot()\n",
    "# plt.show()\n",
    "\n",
    "# Calculate the confusion matrix\n",
    "# conf_matrix = confusion_matrix(y_true=y_test_num, y_pred=predict_test)\n",
    "conf_matrix = confusion_matrix(y_true=y_test_num, y_pred=predict_test)\n",
    "\n",
    "# Print the confusion matrix using Matplotlib\n",
    "\n",
    "fig, ax = plt.subplots(figsize=(5, 5))\n",
    "ax.matshow(conf_matrix, cmap=plt.cm.Blues, alpha=0.3)\n",
    "for i in range(conf_matrix.shape[0]):\n",
    "    for j in range(conf_matrix.shape[1]):\n",
    "        ax.text(x=j, y=i,s=conf_matrix[i, j], va='center', ha='center', size='xx-large')\n",
    " \n",
    "plt.xlabel('Predictions', fontsize=18)\n",
    "plt.ylabel('Actuals', fontsize=18)\n",
    "plt.title('Confusion Matrix', fontsize=18)\n",
    "plt.show()"
   ]
  },
  {
   "cell_type": "code",
   "execution_count": 27,
   "metadata": {},
   "outputs": [
    {
     "name": "stdout",
     "output_type": "stream",
     "text": [
      "True Positive (TP):  92\n",
      "True Negative (TN):  4130\n",
      "False Positive (FP):  664\n",
      "False Negative (FN):  0\n",
      "\n",
      "\n",
      "Metrics:\n",
      "Accuracy:  0.86\n",
      "Precision:  0.12\n",
      "sensitivity:  1.0\n",
      "specificity:  0.86\n",
      "F1-score:  0.22\n",
      "Error Rate:  0.14\n",
      "NPV:  1.0\n",
      "FPR:  7.22\n",
      "FNR:  0.0\n",
      "FDR:  0.88\n",
      "MCC:  0.32\n"
     ]
    }
   ],
   "source": [
    "import math\n",
    "from math import sqrt \n",
    "#(cm[1,0]+cm[0,0])/(cm[1,1]+cm[1,0]+cm[0,0]+cm[0,1]) #accuracy\n",
    "\n",
    "# Extract the true positive, true negative, false positive, and false negative values from the confusion matrix\n",
    "tn, fp, fn, tp = conf_matrix.ravel()\n",
    " \n",
    "# Print the true positive, true negative, false positive, and false negative values\n",
    "print(\"True Positive (TP): \", tp)\n",
    "print(\"True Negative (TN): \", tn)\n",
    "print(\"False Positive (FP): \", fp)\n",
    "print(\"False Negative (FN): \", fn)\n",
    " \n",
    "# Calculate accuracy\n",
    "accuracy = (tp + tn) / (tp + tn + fp + fn)\n",
    " \n",
    "# Calculate precision\n",
    "precision = tp / (tp + fp)\n",
    " \n",
    "# Calculate sensitivity\n",
    "sen = tp / (tp + fn)\n",
    "\n",
    "#calculate specificity\n",
    "spc = tn / (tn + fp)\n",
    " \n",
    "# Calculate F1-score\n",
    "f1_score = 2 * (precision * sen) / (precision + sen)\n",
    "\n",
    "#calculate error rate \n",
    "err = (fp + fn) / (tp + tn + fp + fn)\n",
    "\n",
    "# #calculate positive prediction value\n",
    "# ppv = tp / (tp + fp)\n",
    "\n",
    "#calculate negative prediction value \n",
    "npv = tn / (tn + fn)\n",
    "\n",
    "#calculate false positive rate \n",
    "fpr = fp / (tp + fn)\n",
    "\n",
    "#calculate false negative rate \n",
    "fnr = fn / (tp + fp)\n",
    "\n",
    "#calculate false discovery rate\n",
    "fdr = fp / (fp + tp)\n",
    "\n",
    "#calculate matthew's correlation coefficient\n",
    "mcc = ((tp * tn) - (fp * fn)) / sqrt((tp + fp) * (tp + fn) * (tn + fp) * (tn + fn))\n",
    "\n",
    "#calculate true positive rate\n",
    "tpr = tp / (tp + fn)\n",
    " \n",
    "# Print the formulas for accuracy, precision, recall, and F1-score\n",
    "# print(\"\\n\\nFormulas:\")\n",
    "# print(\"Accuracy: (TP + TN) / (TP + TN + FP + FN)\")\n",
    "# print(\"Precision: TP / (TP + FP)\")\n",
    "# print(\"Recall: TP / (TP + FN)\")\n",
    "# print(\"F1-score: 2 * (Precision * Recall) / (Precision + Recall)\")\n",
    "# print(\"Error rate: (FP + FN)/(TP + TN + FP + FN)\")\n",
    " \n",
    "# Print the accuracy, precision, recall, and F1-score\n",
    "print(\"\\n\\nMetrics:\")\n",
    "print(\"Accuracy: \", round(accuracy, 2))\n",
    "print(\"Precision: \", round(precision, 2))\n",
    "print(\"sensitivity: \", round(sen, 2))\n",
    "print(\"specificity: \", round(spc,2))\n",
    "print(\"F1-score: \", round(f1_score, 2))\n",
    "print(\"Error Rate: \", round(err,2))\n",
    "#print(\"PPV: \", round(ppv,2))\n",
    "print(\"NPV: \", round(npv,2))\n",
    "print(\"FPR: \", round(fpr,2))\n",
    "print(\"FNR: \", round(fnr,2))\n",
    "print(\"FDR: \", round(fdr,2))\n",
    "print(\"MCC: \", round(mcc,2))\n",
    "\n"
   ]
  },
  {
   "cell_type": "code",
   "execution_count": 80,
   "metadata": {},
   "outputs": [
    {
     "data": {
      "image/png": "[encoded data removed]",
      "text/plain": [
       "<Figure size 500x500 with 1 Axes>"
      ]
     },
     "metadata": {},
     "output_type": "display_data"
    }
   ],
   "source": []
  },
  {
   "cell_type": "code",
   "execution_count": 64,
   "metadata": {},
   "outputs": [
    {
     "name": "stdout",
     "output_type": "stream",
     "text": [
      "<class 'keras.engine.sequential.Sequential'>\n",
      "dict_keys(['__header__', '__version__', '__globals__', 'ecg_test'])\n",
      "71/71 [==============================] - 1s 13ms/step\n",
      "[[6.4779836e-01 3.5220161e-01]\n",
      " [9.6715271e-01 3.2847270e-02]\n",
      " [9.9999976e-01 2.5153716e-07]\n",
      " ...\n",
      " [1.0000000e+00 1.9177806e-08]\n",
      " [1.0000000e+00 4.6269516e-08]\n",
      " [9.9277520e-01 7.2247908e-03]]\n",
      "No\n"
     ]
    }
   ],
   "source": [
    "import scipy.io\n",
    "import numpy as np\n",
    "#from sklearn.svm import SVC\n",
    "\n",
    "print(type(model_ecg))\n",
    "\n",
    "def classify_output(output):\n",
    "    if np.any(output) == 1:\n",
    "        return \"Yes\"\n",
    "    else:\n",
    "        return \"No\"\n",
    "\n",
    "mat = scipy.io.loadmat(\"D:\\\\mahika\\\\notes\\\\sem6\\\\minor\\\\dataset\\\\selected\\\\ucddb002_ecg_test.mat\")\n",
    "print(mat.keys())\n",
    "x = mat['ecg_test']\n",
    "\n",
    "prediction = model_ecg.predict(x)\n",
    "print(prediction)\n",
    "classification = classify_output(prediction)\n",
    "print(classification)"
   ]
  },
  {
   "cell_type": "code",
   "execution_count": null,
   "metadata": {},
   "outputs": [],
   "source": [
    "x = 0.02\n",
    "y = 0.8696\n",
    "\n",
    "#create ROC curve\n",
    "# plt.plot(x,y)\n",
    "# plt.ylabel('True Positive Rate')\n",
    "# plt.xlabel('False Positive Rate')\n",
    "# plt.show()\n",
    "\n",
    "plt.subplots(1, figsize=(5,5))\n",
    "plt.title('Receiver Operating Characteristic - LSTM')\n",
    "plt.plot(x, y)\n",
    "plt.plot([0, 1], ls=\"--\")\n",
    "plt.plot([0, 0], [1, 0] , c=\".7\"), plt.plot([1, 1] , c=\".7\")\n",
    "plt.ylabel('True Positive Rate')\n",
    "plt.xlabel('False Positive Rate')\n",
    "plt.show()"
   ]
  },
  {
   "cell_type": "code",
   "execution_count": 52,
   "metadata": {},
   "outputs": [
    {
     "ename": "FileNotFoundError",
     "evalue": "[Errno 2] No such file or directory: 'D:\\\\mahika\\\\notes\\\\sem6\\\\minor\\\\dataset\\\\selected\\\\ucddb008_ecg_test.mat'",
     "output_type": "error",
     "traceback": [
      "\u001b[1;31m---------------------------------------------------------------------------\u001b[0m",
      "\u001b[1;31mFileNotFoundError\u001b[0m                         Traceback (most recent call last)",
      "File \u001b[1;32m~\\AppData\\Roaming\\Python\\Python39\\site-packages\\scipy\\io\\matlab\\_mio.py:39\u001b[0m, in \u001b[0;36m_open_file\u001b[1;34m(file_like, appendmat, mode)\u001b[0m\n\u001b[0;32m     38\u001b[0m \u001b[39mtry\u001b[39;00m:\n\u001b[1;32m---> 39\u001b[0m     \u001b[39mreturn\u001b[39;00m \u001b[39mopen\u001b[39;49m(file_like, mode), \u001b[39mTrue\u001b[39;00m\n\u001b[0;32m     40\u001b[0m \u001b[39mexcept\u001b[39;00m \u001b[39mOSError\u001b[39;00m \u001b[39mas\u001b[39;00m e:\n\u001b[0;32m     41\u001b[0m     \u001b[39m# Probably \"not found\"\u001b[39;00m\n",
      "\u001b[1;31mFileNotFoundError\u001b[0m: [Errno 2] No such file or directory: 'D:\\\\mahika\\\\notes\\\\sem6\\\\minor\\\\dataset\\\\selected\\\\ucddb008_ecg_test.mat'",
      "\nDuring handling of the above exception, another exception occurred:\n",
      "\u001b[1;31mFileNotFoundError\u001b[0m                         Traceback (most recent call last)",
      "\u001b[1;32md:\\mahika\\notes\\sem6\\minor\\CNN_sleep_apnea-main\\sleep_apnea_ecg.ipynb Cell 22\u001b[0m in \u001b[0;36m1\n\u001b[0;32m      <a href='vscode-notebook-cell:/d%3A/mahika/notes/sem6/minor/CNN_sleep_apnea-main/sleep_apnea_ecg.ipynb#X42sZmlsZQ%3D%3D?line=8'>9</a>\u001b[0m \u001b[39mimport\u001b[39;00m \u001b[39mscipy\u001b[39;00m\u001b[39m.\u001b[39;00m\u001b[39mio\u001b[39;00m\n\u001b[0;32m     <a href='vscode-notebook-cell:/d%3A/mahika/notes/sem6/minor/CNN_sleep_apnea-main/sleep_apnea_ecg.ipynb#X42sZmlsZQ%3D%3D?line=10'>11</a>\u001b[0m \u001b[39m# Load .mat file\u001b[39;00m\n\u001b[1;32m---> <a href='vscode-notebook-cell:/d%3A/mahika/notes/sem6/minor/CNN_sleep_apnea-main/sleep_apnea_ecg.ipynb#X42sZmlsZQ%3D%3D?line=11'>12</a>\u001b[0m mat \u001b[39m=\u001b[39m scipy\u001b[39m.\u001b[39;49mio\u001b[39m.\u001b[39;49mloadmat(\u001b[39m'\u001b[39;49m\u001b[39mD:\u001b[39;49m\u001b[39m\\\\\u001b[39;49;00m\u001b[39mmahika\u001b[39;49m\u001b[39m\\\\\u001b[39;49;00m\u001b[39mnotes\u001b[39;49m\u001b[39m\\\\\u001b[39;49;00m\u001b[39msem6\u001b[39;49m\u001b[39m\\\\\u001b[39;49;00m\u001b[39mminor\u001b[39;49m\u001b[39m\\\\\u001b[39;49;00m\u001b[39mdataset\u001b[39;49m\u001b[39m\\\\\u001b[39;49;00m\u001b[39mselected\u001b[39;49m\u001b[39m\\\\\u001b[39;49;00m\u001b[39mucddb008_ecg_test.mat\u001b[39;49m\u001b[39m'\u001b[39;49m)\n\u001b[0;32m     <a href='vscode-notebook-cell:/d%3A/mahika/notes/sem6/minor/CNN_sleep_apnea-main/sleep_apnea_ecg.ipynb#X42sZmlsZQ%3D%3D?line=13'>14</a>\u001b[0m \u001b[39m# Get the input data from the .mat file\u001b[39;00m\n\u001b[0;32m     <a href='vscode-notebook-cell:/d%3A/mahika/notes/sem6/minor/CNN_sleep_apnea-main/sleep_apnea_ecg.ipynb#X42sZmlsZQ%3D%3D?line=14'>15</a>\u001b[0m \u001b[39mprint\u001b[39m(mat\u001b[39m.\u001b[39mkeys())\n",
      "File \u001b[1;32m~\\AppData\\Roaming\\Python\\Python39\\site-packages\\scipy\\io\\matlab\\_mio.py:224\u001b[0m, in \u001b[0;36mloadmat\u001b[1;34m(file_name, mdict, appendmat, **kwargs)\u001b[0m\n\u001b[0;32m     87\u001b[0m \u001b[39m\"\"\"\u001b[39;00m\n\u001b[0;32m     88\u001b[0m \u001b[39mLoad MATLAB file.\u001b[39;00m\n\u001b[0;32m     89\u001b[0m \n\u001b[1;32m   (...)\u001b[0m\n\u001b[0;32m    221\u001b[0m \u001b[39m    3.14159265+3.14159265j])\u001b[39;00m\n\u001b[0;32m    222\u001b[0m \u001b[39m\"\"\"\u001b[39;00m\n\u001b[0;32m    223\u001b[0m variable_names \u001b[39m=\u001b[39m kwargs\u001b[39m.\u001b[39mpop(\u001b[39m'\u001b[39m\u001b[39mvariable_names\u001b[39m\u001b[39m'\u001b[39m, \u001b[39mNone\u001b[39;00m)\n\u001b[1;32m--> 224\u001b[0m \u001b[39mwith\u001b[39;00m _open_file_context(file_name, appendmat) \u001b[39mas\u001b[39;00m f:\n\u001b[0;32m    225\u001b[0m     MR, _ \u001b[39m=\u001b[39m mat_reader_factory(f, \u001b[39m*\u001b[39m\u001b[39m*\u001b[39mkwargs)\n\u001b[0;32m    226\u001b[0m     matfile_dict \u001b[39m=\u001b[39m MR\u001b[39m.\u001b[39mget_variables(variable_names)\n",
      "File \u001b[1;32mc:\\Program Files\\Python39\\lib\\contextlib.py:117\u001b[0m, in \u001b[0;36m_GeneratorContextManager.__enter__\u001b[1;34m(self)\u001b[0m\n\u001b[0;32m    115\u001b[0m \u001b[39mdel\u001b[39;00m \u001b[39mself\u001b[39m\u001b[39m.\u001b[39margs, \u001b[39mself\u001b[39m\u001b[39m.\u001b[39mkwds, \u001b[39mself\u001b[39m\u001b[39m.\u001b[39mfunc\n\u001b[0;32m    116\u001b[0m \u001b[39mtry\u001b[39;00m:\n\u001b[1;32m--> 117\u001b[0m     \u001b[39mreturn\u001b[39;00m \u001b[39mnext\u001b[39;49m(\u001b[39mself\u001b[39;49m\u001b[39m.\u001b[39;49mgen)\n\u001b[0;32m    118\u001b[0m \u001b[39mexcept\u001b[39;00m \u001b[39mStopIteration\u001b[39;00m:\n\u001b[0;32m    119\u001b[0m     \u001b[39mraise\u001b[39;00m \u001b[39mRuntimeError\u001b[39;00m(\u001b[39m\"\u001b[39m\u001b[39mgenerator didn\u001b[39m\u001b[39m'\u001b[39m\u001b[39mt yield\u001b[39m\u001b[39m\"\u001b[39m) \u001b[39mfrom\u001b[39;00m \u001b[39mNone\u001b[39m\n",
      "File \u001b[1;32m~\\AppData\\Roaming\\Python\\Python39\\site-packages\\scipy\\io\\matlab\\_mio.py:17\u001b[0m, in \u001b[0;36m_open_file_context\u001b[1;34m(file_like, appendmat, mode)\u001b[0m\n\u001b[0;32m     15\u001b[0m \u001b[39m@contextmanager\u001b[39m\n\u001b[0;32m     16\u001b[0m \u001b[39mdef\u001b[39;00m \u001b[39m_open_file_context\u001b[39m(file_like, appendmat, mode\u001b[39m=\u001b[39m\u001b[39m'\u001b[39m\u001b[39mrb\u001b[39m\u001b[39m'\u001b[39m):\n\u001b[1;32m---> 17\u001b[0m     f, opened \u001b[39m=\u001b[39m _open_file(file_like, appendmat, mode)\n\u001b[0;32m     18\u001b[0m     \u001b[39mtry\u001b[39;00m:\n\u001b[0;32m     19\u001b[0m         \u001b[39myield\u001b[39;00m f\n",
      "File \u001b[1;32m~\\AppData\\Roaming\\Python\\Python39\\site-packages\\scipy\\io\\matlab\\_mio.py:45\u001b[0m, in \u001b[0;36m_open_file\u001b[1;34m(file_like, appendmat, mode)\u001b[0m\n\u001b[0;32m     43\u001b[0m     \u001b[39mif\u001b[39;00m appendmat \u001b[39mand\u001b[39;00m \u001b[39mnot\u001b[39;00m file_like\u001b[39m.\u001b[39mendswith(\u001b[39m'\u001b[39m\u001b[39m.mat\u001b[39m\u001b[39m'\u001b[39m):\n\u001b[0;32m     44\u001b[0m         file_like \u001b[39m+\u001b[39m\u001b[39m=\u001b[39m \u001b[39m'\u001b[39m\u001b[39m.mat\u001b[39m\u001b[39m'\u001b[39m\n\u001b[1;32m---> 45\u001b[0m     \u001b[39mreturn\u001b[39;00m \u001b[39mopen\u001b[39;49m(file_like, mode), \u001b[39mTrue\u001b[39;00m\n\u001b[0;32m     46\u001b[0m \u001b[39melse\u001b[39;00m:\n\u001b[0;32m     47\u001b[0m     \u001b[39mraise\u001b[39;00m \u001b[39mOSError\u001b[39;00m(\n\u001b[0;32m     48\u001b[0m         \u001b[39m'\u001b[39m\u001b[39mReader needs file name or open file-like object\u001b[39m\u001b[39m'\u001b[39m\n\u001b[0;32m     49\u001b[0m     ) \u001b[39mfrom\u001b[39;00m \u001b[39me\u001b[39;00m\n",
      "\u001b[1;31mFileNotFoundError\u001b[0m: [Errno 2] No such file or directory: 'D:\\\\mahika\\\\notes\\\\sem6\\\\minor\\\\dataset\\\\selected\\\\ucddb008_ecg_test.mat'"
     ]
    }
   ],
   "source": [
    "# model_ecg.compile(loss='binary_crossentropy', optimizer='adam', metrics=['accuracy'])\n",
    "\n",
    "# # Load trained weights if available\n",
    "# model_ecg.load_weights(best_weights_filepath_ecg)\n",
    "\n",
    "# # Use predict() method to make predictions on new data\n",
    "# predictions = model_ecg.predict(\"D:\\\\mahika\\\\notes\\\\sem6\\\\minor\\\\dataset\\\\selected\\\\ucddb002_ecg_test.mat\")\n",
    "\n",
    "import scipy.io\n",
    "\n",
    "# Load .mat file\n",
    "mat = scipy.io.loadmat('D:\\\\mahika\\\\notes\\\\sem6\\\\minor\\\\dataset\\\\selected\\\\ucddb002_ecg_test.mat')\n",
    "\n",
    "# Get the input data from the .mat file\n",
    "print(mat.keys())\n",
    "x = mat['ecg_test']\n",
    "\n",
    "def classify_output(output):\n",
    "    if np.any(output) == 1:\n",
    "        return \"Yes\"\n",
    "    else:\n",
    "        return \"No\"\n",
    "\n",
    "# Make a prediction using the loaded model\n",
    "prediction = model_ecg.predict(x)\n",
    "classification = classify_output(prediction)\n",
    "print(classification)"
   ]
  },
  {
   "cell_type": "code",
   "execution_count": 31,
   "metadata": {},
   "outputs": [
    {
     "data": {
      "text/plain": [
       "0.9662077596996246"
      ]
     },
     "execution_count": 31,
     "metadata": {},
     "output_type": "execute_result"
    }
   ],
   "source": [
    "cm[1,0]/(cm[0,0]+cm[1,0]) #sensitivity "
   ]
  },
  {
   "cell_type": "code",
   "execution_count": null,
   "metadata": {},
   "outputs": [],
   "source": [
    "cm[0,1]/(cm[0,1]+cm[1,1]) #specificity"
   ]
  },
  {
   "cell_type": "code",
   "execution_count": null,
   "metadata": {},
   "outputs": [
    {
     "data": {
      "text/plain": [
       "0.9984910541064884"
      ]
     },
     "execution_count": 32,
     "metadata": {},
     "output_type": "execute_result"
    }
   ],
   "source": [
    "cm[0,0]/(cm[0,0]+cm[1,0]) #precision"
   ]
  },
  {
   "cell_type": "code",
   "execution_count": null,
   "metadata": {},
   "outputs": [],
   "source": [
    "cm[1,1]/(cm[1,0]+cm[1,1]) #false positive rate"
   ]
  },
  {
   "cell_type": "code",
   "execution_count": 30,
   "metadata": {},
   "outputs": [
    {
     "data": {
      "text/plain": [
       "0.9239130434782609"
      ]
     },
     "execution_count": 30,
     "metadata": {},
     "output_type": "execute_result"
    }
   ],
   "source": [
    "cm[1,1]/(cm[1,1]+cm[1,0]) #negative prediction value "
   ]
  },
  {
   "cell_type": "code",
   "execution_count": null,
   "metadata": {},
   "outputs": [],
   "source": [
    "(cm[0,1]+cm[1,1])/(cm[1,1]+cm[1,0]+cm[0,0]+cm[1,1]) #error rate"
   ]
  },
  {
   "cell_type": "markdown",
   "metadata": {},
   "source": []
  }
 ],
 "metadata": {
  "kernelspec": {
   "display_name": "Python 3 (ipykernel)",
   "language": "python",
   "name": "python3"
  },
  "language_info": {
   "codemirror_mode": {
    "name": "ipython",
    "version": 3
   },
   "file_extension": ".py",
   "mimetype": "text/x-python",
   "name": "python",
   "nbconvert_exporter": "python",
   "pygments_lexer": "ipython3",
   "version": "3.9.2"
  },
  "vscode": {
   "interpreter": {
    "hash": "c261aea317cc0286b3b3261fbba9abdec21eaa57589985bb7a274bf54d6cc0a7"
   }
  }
 },
 "nbformat": 4,
 "nbformat_minor": 2
}
